{
 "cells": [
  {
   "cell_type": "code",
   "execution_count": null,
   "id": "d767ce81-aa31-4eb9-853a-44fd331e1a94",
   "metadata": {},
   "outputs": [],
   "source": []
  },
  {
   "cell_type": "code",
   "execution_count": 1,
   "id": "07f9974e-a570-4c60-83fc-b499430c1621",
   "metadata": {},
   "outputs": [],
   "source": []
  },
  {
   "cell_type": "code",
   "execution_count": 5,
   "id": "889c0a95-52bb-4549-8cd7-d1c2755b095d",
   "metadata": {
    "tags": []
   },
   "outputs": [],
   "source": [
    "import json\n"
   ]
  },
  {
   "cell_type": "code",
   "execution_count": 6,
   "id": "765f30bd-c1de-4072-8a0a-917336f0aabd",
   "metadata": {
    "tags": []
   },
   "outputs": [],
   "source": [
    "with open(\"data.json\") as f:\n",
    "    data = json.loads(f.read())\n",
    "\n",
    "\n",
    "total_population = data['total_population']\n",
    "distribution_by_age_groups = data['distribution_by_age_groups']\n",
    "age_groups = data['age_groups']\n",
    "distribution_of_man_or_woman = data['distribution_of_man_or_woman']\n",
    "enrollment_distribution = data['enrollment_distribution']\n",
    "active_man_in_working_age = data['active_man_in_working_age']\n",
    "active_woman_in_working_age = data['active_woman_in_working_age']\n",
    "man_distribution_by_economic_activity = data['man_distribution_by_economic_activity']\n",
    "woman_distribution_by_economic_activity = data['woman_distribution_by_economic_activity']\n",
    "provinces_population = data['provinces_population']\n",
    "neighborhoods_per_thousand_people = data['neighborhoods_per_thousand_people']\n",
    "primary_schools_per_thousand_people = data['primary_schools_per_thousand_people']\n",
    "secondary_schools_per_thousand_people = data['secondary_schools_per_thousand_people']\n",
    "pre_universitary_schools_per_thousand_people = data['pre_universitary_schools_per_thousand_people']\n",
    "universities_per_province = data['universities_per_province']\n",
    "provinces_population = data['provinces_population']\n",
    "inhabitants_distribution = data['inhabitants_distribution']\n"
   ]
  },
  {
   "cell_type": "code",
   "execution_count": 7,
   "id": "cb186375-b0fb-4bb3-8a09-fd51573899cc",
   "metadata": {
    "tags": []
   },
   "outputs": [],
   "source": [
    " def _make_vector(dt):\n",
    "        data = []\n",
    "\n",
    "        if type(dt) == type([]):\n",
    "            for i in dt:\n",
    "                data.extend(self._make_vector(i))\n",
    "        elif type(dt) == type({}):\n",
    "            for key in dt:\n",
    "                data.extend(self._make_vector(dt[key]))\n",
    "        else:\n",
    "            return [dt]\n",
    "\n",
    "        return data"
   ]
  },
  {
   "cell_type": "code",
   "execution_count": null,
   "id": "3064be18-40f7-4348-ae04-80760a3b3a06",
   "metadata": {},
   "outputs": [],
   "source": [
    "_make_vector("
   ]
  }
 ],
 "metadata": {
  "kernelspec": {
   "display_name": "Python 3 (ipykernel)",
   "language": "python",
   "name": "python3"
  },
  "language_info": {
   "codemirror_mode": {
    "name": "ipython",
    "version": 3
   },
   "file_extension": ".py",
   "mimetype": "text/x-python",
   "name": "python",
   "nbconvert_exporter": "python",
   "pygments_lexer": "ipython3",
   "version": "3.11.2"
  }
 },
 "nbformat": 4,
 "nbformat_minor": 5
}
