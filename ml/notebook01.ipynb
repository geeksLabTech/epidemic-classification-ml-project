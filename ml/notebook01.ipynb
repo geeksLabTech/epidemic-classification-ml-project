{
 "cells": [
  {
   "cell_type": "code",
   "execution_count": 1,
   "metadata": {
    "colab": {
     "base_uri": "https://localhost:8080/"
    },
    "id": "qEpW7bBoXxjK",
    "outputId": "f9291846-3e60-4b81-a287-2488653ef2c8",
    "scrolled": true,
    "tags": []
   },
   "outputs": [],
   "source": [
    "import os\n",
    "os.environ['TF_CPP_MIN_LOG_LEVEL'] = '2' "
   ]
  },
  {
   "cell_type": "code",
   "execution_count": 2,
   "metadata": {
    "id": "ejN3IJoBX01S",
    "tags": []
   },
   "outputs": [],
   "source": [
    "import tensorflow as tf\n",
    "import json\n",
    "import numpy as np\n",
    "from sklearn.model_selection import train_test_split\n",
    "from sklearn.metrics import mean_squared_error as mse\n",
    "from sklearn.metrics import hinge_loss, mean_absolute_error,mean_squared_log_error,median_absolute_error,mean_absolute_percentage_error,mean_poisson_deviance"
   ]
  },
  {
   "cell_type": "code",
   "execution_count": 3,
   "metadata": {
    "id": "6xhdLfrpYEE2",
    "tags": []
   },
   "outputs": [
    {
     "name": "stdout",
     "output_type": "stream",
     "text": [
      "1411\n"
     ]
    }
   ],
   "source": [
    "file_path = '../dataset.json'\n",
    "\n",
    "# Open the file and load its contents\n",
    "with open(file_path, 'r') as json_file:\n",
    "    # Read the file content\n",
    "    file_content = json_file.read()\n",
    "\n",
    "    # Split the content by newline to get individual JSON objects\n",
    "    json_objects = file_content.split('\\n')\n",
    "\n",
    "data = []\n",
    "# Process each JSON object\n",
    "for json_object in json_objects:\n",
    "    if json_object.strip() == '':\n",
    "        continue  # Skip empty lines\n",
    "    \n",
    "    # Parse the JSON object\n",
    "    data.append(json.loads(json_object))\n",
    "\n",
    "print(len(data))\n",
    "\n",
    "X = []\n",
    "Y = []\n",
    "Y_flat = []\n",
    "\n",
    "for i in data:\n",
    "    X.append(np.array(i['vector']))    \n",
    "    Y.append(np.array(i['matrix']))\n",
    "    \n",
    "X_train, X_test, Y_train, Y_test = train_test_split(X,Y,test_size=0.4, random_state=44)\n",
    "X_train = np.array(X_train)\n",
    "X_test = np.array(X_test)\n",
    "Y_train = np.array(Y_train)\n",
    "Y_test = np.array(Y_test)\n",
    "Y_train_flat =[i.flatten() for i in Y_train]\n",
    "Y_test_flat =[i.flatten() for i in Y_test]"
   ]
  },
  {
   "cell_type": "code",
   "execution_count": 4,
   "metadata": {
    "tags": []
   },
   "outputs": [],
   "source": [
    "\n",
    "def get_metrics(y, p_y):\n",
    "    metrics = {}\n",
    "    try:\n",
    "        metrics['mse'] = mse(y,p_y)\n",
    "    except:\n",
    "        pass\n",
    "    try:\n",
    "        metrics['hinge_loss'] = hinge_losss(y,p_y)\n",
    "    except:\n",
    "        pass\n",
    "    try:\n",
    "        metrics['mean_absolute_error'] = mean_absolute_error(y,p_y)\n",
    "    except:\n",
    "        pass\n",
    "    try:\n",
    "        metrics['mean_squared_log_error'] = mean_squared_log_error(y,p_y)\n",
    "    except:\n",
    "        pass\n",
    "    try:\n",
    "        metrics['median_absolute_error'] = median_absolute_error(y,p_y)\n",
    "    except:\n",
    "        pass\n",
    "    try:\n",
    "        metrics['mean_absolute_percentage_error'] = mean_absolute_percentage_error(y,p_y)\n",
    "    except:\n",
    "        pass\n",
    "    try:\n",
    "        metrics['mean_poisson_deviance'] = mean_poisson_deviance(y,p_y)\n",
    "    except:\n",
    "        pass\n",
    "\n",
    "    return metrics\n",
    "    "
   ]
  },
  {
   "cell_type": "markdown",
   "metadata": {},
   "source": [
    "# Handmade NN"
   ]
  },
  {
   "cell_type": "code",
   "execution_count": 5,
   "metadata": {
    "id": "rliz9aQlYEXS",
    "tags": []
   },
   "outputs": [],
   "source": [
    "# Define the neural network architecture\n",
    "def build_crazy_model(input_dim, output_dim):\n",
    "    model = tf.keras.models.Sequential([\n",
    "        tf.keras.layers.Dense(128, activation='relu', input_shape=(input_dim,)),\n",
    "        tf.keras.layers.Dense(256, activation='relu'),\n",
    "        tf.keras.layers.Dense(512, activation='relu'),\n",
    "        tf.keras.layers.Dense(1024, activation='relu'),\n",
    "        tf.keras.layers.Dense(2048, activation='relu'),\n",
    "        tf.keras.layers.Dense(4096, activation='relu'),\n",
    "        tf.keras.layers.Dense(output_dim)\n",
    "    ])\n",
    "    return model\n",
    "def build_model(input_dim, output_dim):\n",
    "    model = tf.keras.models.Sequential([\n",
    "        tf.keras.layers.Dense(256, activation='relu', input_shape=(input_dim,)),\n",
    "        tf.keras.layers.Dense(512, activation='relu'),\n",
    "        tf.keras.layers.Dense(512, activation='relu'),\n",
    "        tf.keras.layers.Dense(512, activation='relu'),\n",
    "        tf.keras.layers.Dense(1024, activation='relu'),\n",
    "        tf.keras.layers.Dense(512, activation='relu'),\n",
    "        tf.keras.layers.Dense(512, activation='relu'),\n",
    "        tf.keras.layers.Dense(196)  # Output layer with shape (196,)\n",
    "    ])\n",
    "    return model\n",
    "\n",
    "def build_model_recursive(input_dim, output_dim):\n",
    "    model = tf.keras.models.Sequential([\n",
    "        tf.keras.layers.Dense(256, activation='relu', input_shape=(input_dim,)),\n",
    "        tf.keras.layers.Reshape((1, 256)),  # Reshape input to match LSTM requirements\n",
    "        # tf.keras.layers.LSTM(512, return_sequences=True),\n",
    "        tf.keras.layers.TimeDistributed(tf.keras.layers.Dense(256, activation='relu')),\n",
    "        tf.keras.layers.LSTM(512),\n",
    "        tf.keras.layers.Dense(output_dim)\n",
    "    ])\n",
    "    return model\n",
    "\n",
    "# def build_model_convolutional(input_dim):\n",
    "#     model = tf.keras.models.Sequential([\n",
    "#         tf.keras.layers.Dense(256, activation='relu', input_shape=(input_dim,)),\n",
    "#         tf.keras.layers.Dense(7*7*128, activation='relu'),\n",
    "#         tf.keras.layers.Reshape((7, 7, 128)),\n",
    "#         tf.keras.layers.Conv2DTranspose(32, kernel_size=(3, 3), strides=(2, 2), padding='same', activation='relu'),\n",
    "#         tf.keras.layers.Conv2DTranspose(2, kernel_size=(3, 3), strides=(2, 2), padding='same', activation='relu'),\n",
    "#         tf.keras.layers.Conv2D(1, kernel_size=(3, 3), strides=(2, 2), padding='same', activation='relu'),\n",
    "#         tf.keras.layers.Reshape((14, 14, 1))  # Update the output shape to (14, 14, 1)\n",
    "#     ])\n",
    "#     return model"
   ]
  },
  {
   "cell_type": "code",
   "execution_count": 6,
   "metadata": {
    "id": "GxPsGwMvYLOD",
    "tags": []
   },
   "outputs": [],
   "source": [
    "# Define the input and output dimensions\n",
    "input_dim = 128  # Dimensionality of the input vector\n",
    "output_dim = 196  # Dimensionality of the output vector"
   ]
  },
  {
   "cell_type": "code",
   "execution_count": 7,
   "metadata": {
    "id": "g9uXSFPQYMzE",
    "tags": []
   },
   "outputs": [],
   "source": [
    "# Build the model\n",
    "model = build_model_recursive(input_dim, output_dim)\n",
    "model_ann = build_model(input_dim, output_dim)\n",
    "# model_conv = build_model_convolutional(input_dim)\n",
    "\n",
    "# Compile the model\n",
    "model.compile(optimizer='adam', loss='mse')\n",
    "model_ann.compile(optimizer='adam', loss='mse')\n",
    "# model_conv.compile(optimizer='adam', loss='mse')"
   ]
  },
  {
   "cell_type": "code",
   "execution_count": 8,
   "metadata": {
    "colab": {
     "base_uri": "https://localhost:8080/"
    },
    "id": "FyzgGBgHYOp3",
    "outputId": "458e8b0e-378c-4bff-dbe8-741ef2881b4b",
    "scrolled": true,
    "tags": []
   },
   "outputs": [
    {
     "name": "stdout",
     "output_type": "stream",
     "text": [
      "Epoch 1/30\n",
      "27/27 [==============================] - 2s 14ms/step - loss: 2788647.0000\n",
      "Epoch 2/30\n",
      "27/27 [==============================] - 0s 14ms/step - loss: 1986.8145\n",
      "Epoch 3/30\n",
      "27/27 [==============================] - 0s 14ms/step - loss: 1522.0913\n",
      "Epoch 4/30\n",
      "27/27 [==============================] - 0s 14ms/step - loss: 1520.4404\n",
      "Epoch 5/30\n",
      "27/27 [==============================] - 0s 14ms/step - loss: 1520.2556\n",
      "Epoch 6/30\n",
      "27/27 [==============================] - 0s 14ms/step - loss: 1520.1805\n",
      "Epoch 7/30\n",
      "27/27 [==============================] - 0s 14ms/step - loss: 1520.2094\n",
      "Epoch 8/30\n",
      "27/27 [==============================] - 0s 14ms/step - loss: 1520.2274\n",
      "Epoch 9/30\n",
      "27/27 [==============================] - 0s 15ms/step - loss: 1520.1019\n",
      "Epoch 10/30\n",
      "27/27 [==============================] - 0s 15ms/step - loss: 1520.1472\n",
      "Epoch 11/30\n",
      "27/27 [==============================] - 0s 15ms/step - loss: 1520.1292\n",
      "Epoch 12/30\n",
      "27/27 [==============================] - 0s 14ms/step - loss: 1520.0925\n",
      "Epoch 13/30\n",
      "27/27 [==============================] - 0s 14ms/step - loss: 1520.0581\n",
      "Epoch 14/30\n",
      "27/27 [==============================] - 0s 15ms/step - loss: 1520.0475\n",
      "Epoch 15/30\n",
      "27/27 [==============================] - 0s 14ms/step - loss: 1520.0673\n",
      "Epoch 16/30\n",
      "27/27 [==============================] - 0s 14ms/step - loss: 1520.0643\n",
      "Epoch 17/30\n",
      "27/27 [==============================] - 0s 14ms/step - loss: 1521.0297\n",
      "Epoch 18/30\n",
      "27/27 [==============================] - 0s 14ms/step - loss: 1521.1016\n",
      "Epoch 19/30\n",
      "27/27 [==============================] - 0s 14ms/step - loss: 1520.2719\n",
      "Epoch 20/30\n",
      "27/27 [==============================] - 0s 14ms/step - loss: 1520.2090\n",
      "Epoch 21/30\n",
      "27/27 [==============================] - 0s 14ms/step - loss: 1520.1255\n",
      "Epoch 22/30\n",
      "27/27 [==============================] - 0s 14ms/step - loss: 1520.1195\n",
      "Epoch 23/30\n",
      "27/27 [==============================] - 0s 14ms/step - loss: 1520.1173\n",
      "Epoch 24/30\n",
      "27/27 [==============================] - 0s 14ms/step - loss: 1520.1166\n",
      "Epoch 25/30\n",
      "27/27 [==============================] - 0s 14ms/step - loss: 1520.1168\n",
      "Epoch 26/30\n",
      "27/27 [==============================] - 0s 15ms/step - loss: 1520.1150\n",
      "Epoch 27/30\n",
      "27/27 [==============================] - 0s 14ms/step - loss: 1520.1139\n",
      "Epoch 28/30\n",
      "27/27 [==============================] - 0s 14ms/step - loss: 1520.1112\n",
      "Epoch 29/30\n",
      "27/27 [==============================] - 0s 14ms/step - loss: 1520.1101\n",
      "Epoch 30/30\n",
      "27/27 [==============================] - 0s 15ms/step - loss: 1520.1107\n"
     ]
    },
    {
     "data": {
      "text/plain": [
       "<keras.callbacks.History at 0x7f2fc7df82d0>"
      ]
     },
     "execution_count": 8,
     "metadata": {},
     "output_type": "execute_result"
    }
   ],
   "source": [
    "model_ann.fit(x=np.array(X_train),y=np.array(Y_train_flat), epochs=30)"
   ]
  },
  {
   "cell_type": "code",
   "execution_count": null,
   "metadata": {
    "scrolled": true
   },
   "outputs": [],
   "source": []
  },
  {
   "cell_type": "code",
   "execution_count": 9,
   "metadata": {
    "colab": {
     "base_uri": "https://localhost:8080/"
    },
    "id": "xMOPGW57eW2x",
    "outputId": "c0e955d5-1de1-423d-d28d-2a9a57a1a3ab",
    "tags": []
   },
   "outputs": [
    {
     "name": "stdout",
     "output_type": "stream",
     "text": [
      "Epoch 1/30\n",
      "27/27 [==============================] - 3s 14ms/step - loss: 1520.1564\n",
      "Epoch 2/30\n",
      "27/27 [==============================] - 0s 14ms/step - loss: 1519.8827\n",
      "Epoch 3/30\n",
      "27/27 [==============================] - 0s 14ms/step - loss: 1519.7241\n",
      "Epoch 4/30\n",
      "27/27 [==============================] - 0s 14ms/step - loss: 1519.6101\n",
      "Epoch 5/30\n",
      "27/27 [==============================] - 0s 14ms/step - loss: 1519.4581\n",
      "Epoch 6/30\n",
      "27/27 [==============================] - 0s 14ms/step - loss: 1519.3538\n",
      "Epoch 7/30\n",
      "27/27 [==============================] - 0s 14ms/step - loss: 1519.2706\n",
      "Epoch 8/30\n",
      "27/27 [==============================] - 0s 14ms/step - loss: 1519.4215\n",
      "Epoch 9/30\n",
      "27/27 [==============================] - 0s 14ms/step - loss: 1519.3490\n",
      "Epoch 10/30\n",
      "27/27 [==============================] - 0s 14ms/step - loss: 1519.2090\n",
      "Epoch 11/30\n",
      "27/27 [==============================] - 0s 14ms/step - loss: 1519.0745\n",
      "Epoch 12/30\n",
      "27/27 [==============================] - 0s 14ms/step - loss: 1519.0248\n",
      "Epoch 13/30\n",
      "27/27 [==============================] - 0s 14ms/step - loss: 1518.9674\n",
      "Epoch 14/30\n",
      "27/27 [==============================] - 0s 14ms/step - loss: 1518.8596\n",
      "Epoch 15/30\n",
      "27/27 [==============================] - 0s 14ms/step - loss: 1518.7354\n",
      "Epoch 16/30\n",
      "27/27 [==============================] - 0s 14ms/step - loss: 1518.6191\n",
      "Epoch 17/30\n",
      "27/27 [==============================] - 0s 14ms/step - loss: 1518.5631\n",
      "Epoch 18/30\n",
      "27/27 [==============================] - 0s 14ms/step - loss: 1518.4697\n",
      "Epoch 19/30\n",
      "27/27 [==============================] - 0s 14ms/step - loss: 1518.3342\n",
      "Epoch 20/30\n",
      "27/27 [==============================] - 0s 14ms/step - loss: 1518.2137\n",
      "Epoch 21/30\n",
      "27/27 [==============================] - 0s 14ms/step - loss: 1518.1180\n",
      "Epoch 22/30\n",
      "27/27 [==============================] - 0s 14ms/step - loss: 1518.0068\n",
      "Epoch 23/30\n",
      "27/27 [==============================] - 0s 14ms/step - loss: 1517.8939\n",
      "Epoch 24/30\n",
      "27/27 [==============================] - 0s 14ms/step - loss: 1517.7922\n",
      "Epoch 25/30\n",
      "27/27 [==============================] - 0s 14ms/step - loss: 1517.6721\n",
      "Epoch 26/30\n",
      "27/27 [==============================] - 0s 14ms/step - loss: 1517.5751\n",
      "Epoch 27/30\n",
      "27/27 [==============================] - 0s 14ms/step - loss: 1517.5005\n",
      "Epoch 28/30\n",
      "27/27 [==============================] - 0s 14ms/step - loss: 1517.4148\n",
      "Epoch 29/30\n",
      "27/27 [==============================] - 0s 14ms/step - loss: 1517.3167\n",
      "Epoch 30/30\n",
      "27/27 [==============================] - 0s 14ms/step - loss: 1517.2380\n"
     ]
    },
    {
     "data": {
      "text/plain": [
       "<keras.callbacks.History at 0x7f2fbffba090>"
      ]
     },
     "execution_count": 9,
     "metadata": {},
     "output_type": "execute_result"
    }
   ],
   "source": [
    "model.fit(x=np.array(X_train),y=np.array(Y_train_flat), epochs=30)"
   ]
  },
  {
   "cell_type": "code",
   "execution_count": 10,
   "metadata": {
    "colab": {
     "base_uri": "https://localhost:8080/"
    },
    "id": "14SAvXOHYk4y",
    "outputId": "a65e3d8a-9fbb-45d3-c448-2ffbc1d79605",
    "tags": []
   },
   "outputs": [
    {
     "name": "stdout",
     "output_type": "stream",
     "text": [
      "18/18 [==============================] - 0s 3ms/step\n",
      "18/18 [==============================] - 0s 2ms/step\n",
      "{'mse': 74.29522716718571, 'mean_absolute_error': 0.12577708906821133, 'median_absolute_error': 0.07794308190445622, 'mean_absolute_percentage_error': 2.5399910750539783}\n",
      "{'mse': 74.69558613056101, 'mean_absolute_error': 0.0751818996705495, 'median_absolute_error': 0.006599781854220603, 'mean_absolute_percentage_error': 12.85567560756224}\n"
     ]
    }
   ],
   "source": [
    "Y_predicted = model.predict(np.array(X_test))\n",
    "Y_ann_predicted = model_ann.predict(np.array(X_test))\n",
    "# Y_conv_predicted = model_conv.predict(np.array(X_test))\n",
    "print(get_metrics(Y_predicted, Y_test_flat))\n",
    "print(get_metrics(Y_ann_predicted, Y_test_flat))"
   ]
  },
  {
   "cell_type": "code",
   "execution_count": 11,
   "metadata": {
    "colab": {
     "base_uri": "https://localhost:8080/"
    },
    "id": "Dn__H5iFZ0gY",
    "outputId": "04738f0c-14b0-4c03-e2ed-2e48633b08ae",
    "tags": []
   },
   "outputs": [],
   "source": [
    "Y_predicted = [np.reshape(i, (14,14)) for i in Y_predicted]\n",
    "# Y_predicted"
   ]
  },
  {
   "cell_type": "code",
   "execution_count": 12,
   "metadata": {
    "colab": {
     "base_uri": "https://localhost:8080/"
    },
    "id": "YMhuJWX0ckq3",
    "outputId": "4ce0320e-f93b-481c-811b-7bf4c95fcc7f",
    "tags": []
   },
   "outputs": [],
   "source": [
    "Y_ann_predicted = [np.reshape(i, (14,14)) for i in Y_ann_predicted]\n",
    "# Y_ann_predicted"
   ]
  },
  {
   "cell_type": "code",
   "execution_count": null,
   "metadata": {},
   "outputs": [],
   "source": []
  },
  {
   "cell_type": "markdown",
   "metadata": {},
   "source": [
    "# AutoKeras"
   ]
  },
  {
   "cell_type": "code",
   "execution_count": 13,
   "metadata": {
    "tags": []
   },
   "outputs": [],
   "source": [
    "import autokeras as ak\n",
    "import numpy as np"
   ]
  },
  {
   "cell_type": "code",
   "execution_count": 14,
   "metadata": {
    "tags": []
   },
   "outputs": [],
   "source": [
    "# X_train = X_train.reshape(-1, 128)\n",
    "# Y_train = Y_train.reshape(-1, 14,14)\n",
    "train_set = tf.data.Dataset.from_tensor_slices((X_train, Y_train_flat))\n",
    "test_set = tf.data.Dataset.from_tensor_slices((X_test, Y_test_flat))\n"
   ]
  },
  {
   "cell_type": "code",
   "execution_count": 15,
   "metadata": {
    "scrolled": true,
    "tags": []
   },
   "outputs": [
    {
     "name": "stdout",
     "output_type": "stream",
     "text": [
      "Trial 76 Complete [00h 00m 04s]\n",
      "val_loss: 71.77154541015625\n",
      "\n",
      "Best val_loss So Far: 71.20182800292969\n",
      "Total elapsed time: 00h 04m 26s\n",
      "INFO:tensorflow:Oracle triggered exit\n",
      "Epoch 1/11\n",
      "27/27 [==============================] - 2s 4ms/step - loss: 1521.1047 - mae: 0.7162\n",
      "Epoch 2/11\n",
      "27/27 [==============================] - 0s 4ms/step - loss: 1519.9017 - mae: 0.6162\n",
      "Epoch 3/11\n",
      "27/27 [==============================] - 0s 4ms/step - loss: 1518.5697 - mae: 0.5820\n",
      "Epoch 4/11\n",
      "27/27 [==============================] - 0s 4ms/step - loss: 1518.4628 - mae: 0.5557\n",
      "Epoch 5/11\n",
      "27/27 [==============================] - 0s 4ms/step - loss: 1516.8588 - mae: 0.5338\n",
      "Epoch 6/11\n",
      "27/27 [==============================] - 0s 4ms/step - loss: 1516.9115 - mae: 0.5222\n",
      "Epoch 7/11\n",
      "27/27 [==============================] - 0s 4ms/step - loss: 1515.5983 - mae: 0.5093\n",
      "Epoch 8/11\n",
      "27/27 [==============================] - 0s 4ms/step - loss: 1513.5770 - mae: 0.5008\n",
      "Epoch 9/11\n",
      "27/27 [==============================] - 0s 4ms/step - loss: 1518.0027 - mae: 0.4879\n",
      "Epoch 10/11\n",
      "27/27 [==============================] - 0s 4ms/step - loss: 1515.2931 - mae: 0.4706\n",
      "Epoch 11/11\n",
      "27/27 [==============================] - 0s 4ms/step - loss: 1511.4016 - mae: 0.4582\n"
     ]
    },
    {
     "name": "stderr",
     "output_type": "stream",
     "text": [
      "WARNING:absl:Found untraced functions such as _update_step_xla while saving (showing 1 of 1). These functions will not be directly callable after loading.\n"
     ]
    },
    {
     "name": "stdout",
     "output_type": "stream",
     "text": [
      "INFO:tensorflow:Assets written to: ./auto_model/best_model/assets\n"
     ]
    },
    {
     "name": "stderr",
     "output_type": "stream",
     "text": [
      "INFO:tensorflow:Assets written to: ./auto_model/best_model/assets\n"
     ]
    },
    {
     "data": {
      "text/plain": [
       "<keras.callbacks.History at 0x7f2f0453b9d0>"
      ]
     },
     "execution_count": 15,
     "metadata": {},
     "output_type": "execute_result"
    }
   ],
   "source": [
    "\n",
    "input_node = ak.StructuredDataInput()\n",
    "output_node = ak.DenseBlock()(input_node)\n",
    "output_node = ak.RegressionHead()(output_node)\n",
    "reg = ak.AutoModel(inputs=input_node, outputs=output_node,overwrite=True, max_trials=100,metrics=['mae'],\n",
    ")\n",
    "reg.fit(train_set,epochs=11,validation_split=0.60)\n",
    "\n",
    "# X_train = X_train.reshape(-1, 128)\n",
    "# Y_train = Y_train.reshape(-1, 14,14)|"
   ]
  },
  {
   "cell_type": "code",
   "execution_count": 16,
   "metadata": {
    "tags": []
   },
   "outputs": [
    {
     "name": "stdout",
     "output_type": "stream",
     "text": [
      "18/18 [==============================] - 0s 1ms/step\n",
      "18/18 [==============================] - 0s 2ms/step\n",
      "18/18 [==============================] - 0s 2ms/step - loss: 74.3758 - mae: 0.2323\n",
      "[74.37577819824219, 0.23233327269554138]\n",
      "{'mse': 74.37577766666152, 'mean_absolute_error': 0.23233325722525575, 'median_absolute_error': 0.15384548096708697, 'mean_absolute_percentage_error': 85576247366.63478}\n"
     ]
    },
    {
     "data": {
      "text/plain": [
       "array([[-2.8058389e-01, -5.9937116e-02, -1.0602428e-03, ...,\n",
       "        -2.8799770e-02,  5.1632982e-01,  3.7451500e+01],\n",
       "       [ 9.0777636e-02, -9.6602201e-02, -5.4176174e-02, ...,\n",
       "         3.7339166e-02,  8.2362592e-03,  1.1587290e+01],\n",
       "       [ 5.6667488e-02, -6.5791957e-02,  3.0729316e-02, ...,\n",
       "        -9.2120409e-02,  1.2409159e-01,  1.2201992e+01],\n",
       "       ...,\n",
       "       [ 1.5700724e-02, -1.5096664e-01, -3.2358751e-02, ...,\n",
       "         1.5311030e-01, -1.1856837e-01,  1.5315228e+01],\n",
       "       [-2.6006410e-01, -8.9214951e-02, -1.7049468e-01, ...,\n",
       "         2.2291811e-02,  6.0457850e-01,  3.7931580e+01],\n",
       "       [-2.4292919e-01, -8.8082880e-02, -1.6213116e-01, ...,\n",
       "        -1.8241255e-02,  5.5519140e-01,  3.6256744e+01]], dtype=float32)"
      ]
     },
     "execution_count": 16,
     "metadata": {},
     "output_type": "execute_result"
    }
   ],
   "source": [
    "predicted_y = reg.predict(test_set)\n",
    "print(reg.evaluate(test_set))\n",
    "print(get_metrics(Y_test_flat, predicted_y))\n",
    "predicted_y"
   ]
  },
  {
   "cell_type": "code",
   "execution_count": null,
   "metadata": {},
   "outputs": [
    {
     "name": "stdout",
     "output_type": "stream",
     "text": [
      "Trial 4 Complete [00h 00m 08s]\n",
      "val_loss: 214.6336669921875\n",
      "\n",
      "Best val_loss So Far: 213.13284301757812\n",
      "Total elapsed time: 00h 00m 35s\n",
      "\n",
      "Search: Running Trial #5\n",
      "\n",
      "Value             |Best Value So Far |Hyperparameter\n",
      "True              |True              |structured_data_block_1/normalize\n",
      "False             |False             |structured_data_block_1/dense_block_1/use_batchnorm\n",
      "2                 |2                 |structured_data_block_1/dense_block_1/num_layers\n",
      "32                |32                |structured_data_block_1/dense_block_1/units_0\n",
      "0                 |0                 |structured_data_block_1/dense_block_1/dropout\n",
      "64                |64                |structured_data_block_1/dense_block_1/units_1\n",
      "0                 |0                 |regression_head_1/dropout\n",
      "adam              |adam              |optimizer\n",
      "2e-05             |0.001             |learning_rate\n",
      "\n"
     ]
    }
   ],
   "source": [
    "regressor = ak.StructuredDataRegressor(max_trials=100, overwrite=True, metrics=['mse'],)\n",
    "regressor.fit(train_set, epochs=11)\n",
    "predicted_y = regressor.predict(test_set)\n",
    "# X_train = X_train.reshape(-1, 128)\n",
    "# Y_train = Y_train.reshape(-1, 14,14)\n",
    "print(regressor.evaluate(test_set))\n",
    "print(get_metrics(Y_test_flat, predicted_y))"
   ]
  },
  {
   "cell_type": "code",
   "execution_count": null,
   "metadata": {},
   "outputs": [],
   "source": [
    "model = reg.export_model()\n",
    "model.summary()"
   ]
  },
  {
   "cell_type": "code",
   "execution_count": null,
   "metadata": {},
   "outputs": [],
   "source": [
    "model_regressor = regressor.export_model()\n",
    "model_regressor.summary()"
   ]
  },
  {
   "cell_type": "code",
   "execution_count": null,
   "metadata": {},
   "outputs": [],
   "source": [
    "X_test = X_test.reshape(-1, 128)\n",
    "Y_ak_predicted =reg.predict(X_test)"
   ]
  },
  {
   "cell_type": "code",
   "execution_count": null,
   "metadata": {},
   "outputs": [],
   "source": [
    "\n"
   ]
  },
  {
   "cell_type": "code",
   "execution_count": null,
   "metadata": {},
   "outputs": [],
   "source": []
  },
  {
   "cell_type": "code",
   "execution_count": null,
   "metadata": {},
   "outputs": [],
   "source": [
    "predicted_y = reg.predict(test_set)\n",
    "print(reg.evaluate(test_set))\n",
    "print(get_metrics(Y_test_flat, predicted_y))\n",
    "predicted_y"
   ]
  },
  {
   "cell_type": "code",
   "execution_count": null,
   "metadata": {},
   "outputs": [],
   "source": []
  },
  {
   "cell_type": "code",
   "execution_count": null,
   "metadata": {},
   "outputs": [],
   "source": []
  }
 ],
 "metadata": {
  "colab": {
   "provenance": []
  },
  "kernelspec": {
   "display_name": "Python 3 (ipykernel)",
   "language": "python",
   "name": "python3"
  },
  "language_info": {
   "codemirror_mode": {
    "name": "ipython",
    "version": 3
   },
   "file_extension": ".py",
   "mimetype": "text/x-python",
   "name": "python",
   "nbconvert_exporter": "python",
   "pygments_lexer": "ipython3",
   "version": "3.11.2"
  }
 },
 "nbformat": 4,
 "nbformat_minor": 4
}
