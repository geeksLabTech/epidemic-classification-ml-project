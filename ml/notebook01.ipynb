{
 "cells": [
  {
   "cell_type": "code",
   "execution_count": 1,
   "metadata": {
    "colab": {
     "base_uri": "https://localhost:8080/"
    },
    "id": "qEpW7bBoXxjK",
    "outputId": "f9291846-3e60-4b81-a287-2488653ef2c8",
    "scrolled": true,
    "tags": []
   },
   "outputs": [],
   "source": [
    "import os\n",
    "os.environ['TF_CPP_MIN_LOG_LEVEL'] = '2' "
   ]
  },
  {
   "cell_type": "code",
   "execution_count": 2,
   "metadata": {
    "id": "ejN3IJoBX01S",
    "tags": []
   },
   "outputs": [],
   "source": [
    "import tensorflow as tf\n",
    "import json\n",
    "import numpy as np\n",
    "from sklearn.model_selection import train_test_split\n",
    "from sklearn.metrics import mean_squared_error as mse"
   ]
  },
  {
   "cell_type": "code",
   "execution_count": 3,
   "metadata": {
    "id": "6xhdLfrpYEE2",
    "tags": []
   },
   "outputs": [
    {
     "name": "stdout",
     "output_type": "stream",
     "text": [
      "1411\n"
     ]
    }
   ],
   "source": [
    "file_path = '../dataset.json'\n",
    "\n",
    "# Open the file and load its contents\n",
    "with open(file_path, 'r') as json_file:\n",
    "    # Read the file content\n",
    "    file_content = json_file.read()\n",
    "\n",
    "    # Split the content by newline to get individual JSON objects\n",
    "    json_objects = file_content.split('\\n')\n",
    "\n",
    "data = []\n",
    "# Process each JSON object\n",
    "for json_object in json_objects:\n",
    "    if json_object.strip() == '':\n",
    "        continue  # Skip empty lines\n",
    "    \n",
    "    # Parse the JSON object\n",
    "    data.append(json.loads(json_object))\n",
    "\n",
    "print(len(data))\n",
    "\n",
    "X = []\n",
    "Y = []\n",
    "Y_flat = []\n",
    "\n",
    "for i in data:\n",
    "    X.append(np.array(i['vector']))    \n",
    "    Y.append(np.array(i['matrix']))\n",
    "    \n",
    "X_train, X_test, Y_train, Y_test = train_test_split(X,Y,test_size=0.4, random_state=44)\n",
    "X_train = np.array(X_train)\n",
    "X_test = np.array(X_test)\n",
    "Y_train = np.array(Y_train)\n",
    "Y_test = np.array(Y_test)\n",
    "Y_train_flat =[i.flatten() for i in Y_train]\n",
    "Y_test_flat =[i.flatten() for i in Y_test]"
   ]
  },
  {
   "cell_type": "code",
   "execution_count": 4,
   "metadata": {
    "tags": []
   },
   "outputs": [],
   "source": [
    "def get_metrics(y, p_y):\n",
    "    metrics = {}\n",
    "    try:\n",
    "        m = tf.keras.metrics.Accuracy(name=\"accuracy\", dtype=None)\n",
    "        m.update_state(y, p_y)\n",
    "        metrics['accuracy'] = m.result().numpy()\n",
    "    except:\n",
    "        pass\n",
    "    try:\n",
    "        metrics['mse'] = mse(y,p_y)\n",
    "    except:\n",
    "        pass\n",
    "    return metrics\n",
    "    "
   ]
  },
  {
   "cell_type": "markdown",
   "metadata": {},
   "source": [
    "# Handmade NN"
   ]
  },
  {
   "cell_type": "code",
   "execution_count": 5,
   "metadata": {
    "id": "rliz9aQlYEXS",
    "tags": []
   },
   "outputs": [],
   "source": [
    "# Define the neural network architecture\n",
    "def build_crazy_model(input_dim, output_dim):\n",
    "    model = tf.keras.models.Sequential([\n",
    "        tf.keras.layers.Dense(128, activation='relu', input_shape=(input_dim,)),\n",
    "        tf.keras.layers.Dense(256, activation='relu'),\n",
    "        tf.keras.layers.Dense(512, activation='relu'),\n",
    "        tf.keras.layers.Dense(1024, activation='relu'),\n",
    "        tf.keras.layers.Dense(2048, activation='relu'),\n",
    "        tf.keras.layers.Dense(4096, activation='relu'),\n",
    "        tf.keras.layers.Dense(output_dim)\n",
    "    ])\n",
    "    return model\n",
    "def build_model(input_dim, output_dim):\n",
    "    model = tf.keras.models.Sequential([\n",
    "        tf.keras.layers.Dense(256, activation='relu', input_shape=(input_dim,)),\n",
    "        tf.keras.layers.Dense(512, activation='relu'),\n",
    "        tf.keras.layers.Dense(512, activation='relu'),\n",
    "        tf.keras.layers.Dense(512, activation='relu'),\n",
    "        tf.keras.layers.Dense(1024, activation='relu'),\n",
    "        tf.keras.layers.Dense(1024, activation='relu'),\n",
    "        tf.keras.layers.Dense(1024, activation='relu'),\n",
    "        tf.keras.layers.Dense(512, activation='relu'),\n",
    "        tf.keras.layers.Dense(196)  # Output layer with shape (196,)\n",
    "    ])\n",
    "    return model\n",
    "\n",
    "def build_model_recursive(input_dim, output_dim):\n",
    "    model = tf.keras.models.Sequential([\n",
    "        tf.keras.layers.Dense(256, activation='relu', input_shape=(input_dim,)),\n",
    "        tf.keras.layers.Reshape((1, 256)),  # Reshape input to match LSTM requirements\n",
    "        # tf.keras.layers.LSTM(512, return_sequences=True),\n",
    "        tf.keras.layers.TimeDistributed(tf.keras.layers.Dense(256, activation='relu')),\n",
    "        tf.keras.layers.LSTM(512),\n",
    "        tf.keras.layers.Dense(output_dim)\n",
    "    ])\n",
    "    return model\n",
    "\n",
    "# def build_model_convolutional(input_dim):\n",
    "#     model = tf.keras.models.Sequential([\n",
    "#         tf.keras.layers.Dense(256, activation='relu', input_shape=(input_dim,)),\n",
    "#         tf.keras.layers.Dense(7*7*128, activation='relu'),\n",
    "#         tf.keras.layers.Reshape((7, 7, 128)),\n",
    "#         tf.keras.layers.Conv2DTranspose(32, kernel_size=(3, 3), strides=(2, 2), padding='same', activation='relu'),\n",
    "#         tf.keras.layers.Conv2DTranspose(2, kernel_size=(3, 3), strides=(2, 2), padding='same', activation='relu'),\n",
    "#         tf.keras.layers.Conv2D(1, kernel_size=(3, 3), strides=(2, 2), padding='same', activation='relu'),\n",
    "#         tf.keras.layers.Reshape((14, 14, 1))  # Update the output shape to (14, 14, 1)\n",
    "#     ])\n",
    "#     return model"
   ]
  },
  {
   "cell_type": "code",
   "execution_count": 6,
   "metadata": {
    "id": "GxPsGwMvYLOD",
    "tags": []
   },
   "outputs": [],
   "source": [
    "# Define the input and output dimensions\n",
    "input_dim = 128  # Dimensionality of the input vector\n",
    "output_dim = 196  # Dimensionality of the output vector"
   ]
  },
  {
   "cell_type": "code",
   "execution_count": 7,
   "metadata": {
    "id": "g9uXSFPQYMzE",
    "tags": []
   },
   "outputs": [],
   "source": [
    "# Build the model\n",
    "model = build_model_recursive(input_dim, output_dim)\n",
    "model_ann = build_model(input_dim, output_dim)\n",
    "# model_conv = build_model_convolutional(input_dim)\n",
    "\n",
    "# Compile the model\n",
    "model.compile(optimizer='adam', loss='mse')\n",
    "model_ann.compile(optimizer='adam', loss='mse')\n",
    "# model_conv.compile(optimizer='adam', loss='mse')"
   ]
  },
  {
   "cell_type": "code",
   "execution_count": 8,
   "metadata": {
    "colab": {
     "base_uri": "https://localhost:8080/"
    },
    "id": "FyzgGBgHYOp3",
    "outputId": "458e8b0e-378c-4bff-dbe8-741ef2881b4b",
    "scrolled": true,
    "tags": []
   },
   "outputs": [
    {
     "name": "stdout",
     "output_type": "stream",
     "text": [
      "Epoch 1/30\n",
      "27/27 [==============================] - 2s 27ms/step - loss: 1348164.1250\n",
      "Epoch 2/30\n",
      "27/27 [==============================] - 1s 27ms/step - loss: 1537.4199\n",
      "Epoch 3/30\n",
      "27/27 [==============================] - 1s 26ms/step - loss: 1520.2874\n",
      "Epoch 4/30\n",
      "27/27 [==============================] - 1s 27ms/step - loss: 1520.1292\n",
      "Epoch 5/30\n",
      "27/27 [==============================] - 1s 27ms/step - loss: 1520.1708\n",
      "Epoch 6/30\n",
      "27/27 [==============================] - 1s 27ms/step - loss: 1520.1276\n",
      "Epoch 7/30\n",
      "27/27 [==============================] - 1s 27ms/step - loss: 2348.1245\n",
      "Epoch 8/30\n",
      "27/27 [==============================] - 1s 26ms/step - loss: 1551.7587\n",
      "Epoch 9/30\n",
      "27/27 [==============================] - 1s 26ms/step - loss: 1520.5209\n",
      "Epoch 10/30\n",
      "27/27 [==============================] - 1s 27ms/step - loss: 3531.5254\n",
      "Epoch 11/30\n",
      "27/27 [==============================] - 1s 27ms/step - loss: 1543.8439\n",
      "Epoch 12/30\n",
      "27/27 [==============================] - 1s 27ms/step - loss: 1520.1194\n",
      "Epoch 13/30\n",
      "27/27 [==============================] - 1s 27ms/step - loss: 1520.1174\n",
      "Epoch 14/30\n",
      "27/27 [==============================] - 1s 27ms/step - loss: 1520.1160\n",
      "Epoch 15/30\n",
      "27/27 [==============================] - 1s 26ms/step - loss: 1520.1140\n",
      "Epoch 16/30\n",
      "27/27 [==============================] - 1s 26ms/step - loss: 1520.1125\n",
      "Epoch 17/30\n",
      "27/27 [==============================] - 1s 27ms/step - loss: 1520.1105\n",
      "Epoch 18/30\n",
      "27/27 [==============================] - 1s 27ms/step - loss: 1520.1090\n",
      "Epoch 19/30\n",
      "27/27 [==============================] - 1s 26ms/step - loss: 1520.1069\n",
      "Epoch 20/30\n",
      "27/27 [==============================] - 1s 27ms/step - loss: 1520.1055\n",
      "Epoch 21/30\n",
      "27/27 [==============================] - 1s 27ms/step - loss: 1520.1033\n",
      "Epoch 22/30\n",
      "27/27 [==============================] - 1s 27ms/step - loss: 1520.1017\n",
      "Epoch 23/30\n",
      "27/27 [==============================] - 1s 27ms/step - loss: 1520.0997\n",
      "Epoch 24/30\n",
      "27/27 [==============================] - 1s 26ms/step - loss: 1520.0979\n",
      "Epoch 25/30\n",
      "27/27 [==============================] - 1s 27ms/step - loss: 1520.0963\n",
      "Epoch 26/30\n",
      "27/27 [==============================] - 1s 26ms/step - loss: 1520.0939\n",
      "Epoch 27/30\n",
      "27/27 [==============================] - 1s 27ms/step - loss: 1520.0919\n",
      "Epoch 28/30\n",
      "27/27 [==============================] - 1s 26ms/step - loss: 1520.0905\n",
      "Epoch 29/30\n",
      "27/27 [==============================] - 1s 26ms/step - loss: 1520.0879\n",
      "Epoch 30/30\n",
      "27/27 [==============================] - 1s 26ms/step - loss: 1520.0864\n"
     ]
    },
    {
     "data": {
      "text/plain": [
       "<keras.callbacks.History at 0x7fe0b802f810>"
      ]
     },
     "execution_count": 8,
     "metadata": {},
     "output_type": "execute_result"
    }
   ],
   "source": [
    "model_ann.fit(x=np.array(X_train),y=np.array(Y_train_flat), epochs=30)"
   ]
  },
  {
   "cell_type": "code",
   "execution_count": null,
   "metadata": {
    "scrolled": true
   },
   "outputs": [],
   "source": []
  },
  {
   "cell_type": "code",
   "execution_count": 9,
   "metadata": {
    "colab": {
     "base_uri": "https://localhost:8080/"
    },
    "id": "xMOPGW57eW2x",
    "outputId": "c0e955d5-1de1-423d-d28d-2a9a57a1a3ab",
    "tags": []
   },
   "outputs": [
    {
     "name": "stdout",
     "output_type": "stream",
     "text": [
      "Epoch 1/30\n",
      "27/27 [==============================] - 3s 14ms/step - loss: 1520.1798\n",
      "Epoch 2/30\n",
      "27/27 [==============================] - 0s 14ms/step - loss: 1519.7955\n",
      "Epoch 3/30\n",
      "27/27 [==============================] - 0s 13ms/step - loss: 1519.6090\n",
      "Epoch 4/30\n",
      "27/27 [==============================] - 0s 14ms/step - loss: 1519.4750\n",
      "Epoch 5/30\n",
      "27/27 [==============================] - 0s 13ms/step - loss: 1519.2561\n",
      "Epoch 6/30\n",
      "27/27 [==============================] - 0s 13ms/step - loss: 1519.1049\n",
      "Epoch 7/30\n",
      "27/27 [==============================] - 0s 14ms/step - loss: 1519.0068\n",
      "Epoch 8/30\n",
      "27/27 [==============================] - 0s 13ms/step - loss: 1518.7908\n",
      "Epoch 9/30\n",
      "27/27 [==============================] - 0s 13ms/step - loss: 1518.8363\n",
      "Epoch 10/30\n",
      "27/27 [==============================] - 0s 13ms/step - loss: 1519.1030\n",
      "Epoch 11/30\n",
      "27/27 [==============================] - 0s 13ms/step - loss: 1519.0687\n",
      "Epoch 12/30\n",
      "27/27 [==============================] - 0s 13ms/step - loss: 1519.0380\n",
      "Epoch 13/30\n",
      "27/27 [==============================] - 0s 13ms/step - loss: 1518.9019\n",
      "Epoch 14/30\n",
      "27/27 [==============================] - 0s 13ms/step - loss: 1518.7518\n",
      "Epoch 15/30\n",
      "27/27 [==============================] - 0s 13ms/step - loss: 1518.6595\n",
      "Epoch 16/30\n",
      "27/27 [==============================] - 0s 14ms/step - loss: 1518.5487\n",
      "Epoch 17/30\n",
      "27/27 [==============================] - 0s 13ms/step - loss: 1518.4183\n",
      "Epoch 18/30\n",
      "27/27 [==============================] - 0s 13ms/step - loss: 1518.3118\n",
      "Epoch 19/30\n",
      "27/27 [==============================] - 0s 13ms/step - loss: 1518.1687\n",
      "Epoch 20/30\n",
      "27/27 [==============================] - 0s 13ms/step - loss: 1518.0702\n",
      "Epoch 21/30\n",
      "27/27 [==============================] - 0s 13ms/step - loss: 1517.9564\n",
      "Epoch 22/30\n",
      "27/27 [==============================] - 0s 13ms/step - loss: 1517.8788\n",
      "Epoch 23/30\n",
      "27/27 [==============================] - 0s 14ms/step - loss: 1517.7488\n",
      "Epoch 24/30\n",
      "27/27 [==============================] - 0s 13ms/step - loss: 1517.6704\n",
      "Epoch 25/30\n",
      "27/27 [==============================] - 0s 13ms/step - loss: 1517.5665\n",
      "Epoch 26/30\n",
      "27/27 [==============================] - 0s 13ms/step - loss: 1517.4799\n",
      "Epoch 27/30\n",
      "27/27 [==============================] - 0s 13ms/step - loss: 1517.3790\n",
      "Epoch 28/30\n",
      "27/27 [==============================] - 0s 13ms/step - loss: 1517.3090\n",
      "Epoch 29/30\n",
      "27/27 [==============================] - 0s 13ms/step - loss: 1517.2179\n",
      "Epoch 30/30\n",
      "27/27 [==============================] - 0s 14ms/step - loss: 1517.1475\n"
     ]
    },
    {
     "data": {
      "text/plain": [
       "<keras.callbacks.History at 0x7fe0b812d210>"
      ]
     },
     "execution_count": 9,
     "metadata": {},
     "output_type": "execute_result"
    }
   ],
   "source": [
    "model.fit(x=np.array(X_train),y=np.array(Y_train_flat), epochs=30)"
   ]
  },
  {
   "cell_type": "code",
   "execution_count": 10,
   "metadata": {
    "colab": {
     "base_uri": "https://localhost:8080/"
    },
    "id": "14SAvXOHYk4y",
    "outputId": "a65e3d8a-9fbb-45d3-c448-2ffbc1d79605",
    "tags": []
   },
   "outputs": [
    {
     "name": "stdout",
     "output_type": "stream",
     "text": [
      "18/18 [==============================] - 1s 3ms/step\n",
      "18/18 [==============================] - 0s 3ms/step\n",
      "{'accuracy': 0.0, 'mse': 74.30204836019965}\n",
      "{'accuracy': 0.0, 'mse': 74.68421839601638}\n"
     ]
    }
   ],
   "source": [
    "Y_predicted = model.predict(np.array(X_test))\n",
    "Y_ann_predicted = model_ann.predict(np.array(X_test))\n",
    "# Y_conv_predicted = model_conv.predict(np.array(X_test))\n",
    "print(get_metrics(Y_predicted, Y_test_flat))\n",
    "print(get_metrics(Y_ann_predicted, Y_test_flat))"
   ]
  },
  {
   "cell_type": "code",
   "execution_count": 11,
   "metadata": {
    "colab": {
     "base_uri": "https://localhost:8080/"
    },
    "id": "Dn__H5iFZ0gY",
    "outputId": "04738f0c-14b0-4c03-e2ed-2e48633b08ae",
    "tags": []
   },
   "outputs": [],
   "source": [
    "Y_predicted = [np.reshape(i, (14,14)) for i in Y_predicted]\n",
    "# Y_predicted"
   ]
  },
  {
   "cell_type": "code",
   "execution_count": 12,
   "metadata": {
    "colab": {
     "base_uri": "https://localhost:8080/"
    },
    "id": "YMhuJWX0ckq3",
    "outputId": "4ce0320e-f93b-481c-811b-7bf4c95fcc7f",
    "tags": []
   },
   "outputs": [],
   "source": [
    "Y_ann_predicted = [np.reshape(i, (14,14)) for i in Y_ann_predicted]\n",
    "# Y_ann_predicted"
   ]
  },
  {
   "cell_type": "code",
   "execution_count": null,
   "metadata": {},
   "outputs": [],
   "source": []
  },
  {
   "cell_type": "markdown",
   "metadata": {},
   "source": [
    "# AutoKeras"
   ]
  },
  {
   "cell_type": "code",
   "execution_count": 13,
   "metadata": {
    "tags": []
   },
   "outputs": [],
   "source": [
    "import autokeras as ak\n",
    "import numpy as np"
   ]
  },
  {
   "cell_type": "code",
   "execution_count": 14,
   "metadata": {
    "tags": []
   },
   "outputs": [],
   "source": [
    "# X_train = X_train.reshape(-1, 128)\n",
    "# Y_train = Y_train.reshape(-1, 14,14)\n",
    "train_set = tf.data.Dataset.from_tensor_slices((X_train, Y_train_flat))\n",
    "test_set = tf.data.Dataset.from_tensor_slices((X_test, Y_test_flat))\n"
   ]
  },
  {
   "cell_type": "code",
   "execution_count": null,
   "metadata": {
    "scrolled": true,
    "tags": []
   },
   "outputs": [
    {
     "name": "stdout",
     "output_type": "stream",
     "text": [
      "Trial 12 Complete [00h 00m 09s]\n",
      "val_loss: 212.86546325683594\n",
      "\n",
      "Best val_loss So Far: 212.8651580810547\n",
      "Total elapsed time: 00h 01m 44s\n",
      "\n",
      "Search: Running Trial #13\n",
      "\n",
      "Value             |Best Value So Far |Hyperparameter\n",
      "True              |True              |structured_data_block_1/normalize\n",
      "False             |False             |structured_data_block_1/dense_block_1/use_batchnorm\n",
      "2                 |2                 |structured_data_block_1/dense_block_1/num_layers\n",
      "256               |32                |structured_data_block_1/dense_block_1/units_0\n",
      "0.25              |0.25              |structured_data_block_1/dense_block_1/dropout\n",
      "32                |32                |structured_data_block_1/dense_block_1/units_1\n",
      "0                 |0                 |regression_head_1/dropout\n",
      "adam              |adam              |optimizer\n",
      "0.1               |0.1               |learning_rate\n",
      "512               |None              |structured_data_block_1/dense_block_1/units_2\n",
      "\n"
     ]
    }
   ],
   "source": [
    "\n",
    "input_node = ak.StructuredDataInput()\n",
    "output_node = ak.StructuredDataBlock(categorical_encoding=True)(input_node)\n",
    "output_node = ak.RegressionHead()(output_node)\n",
    "reg = ak.AutoModel(\n",
    "    inputs=input_node, outputs=output_node, overwrite=True, max_trials=100,metrics=['mse'],\n",
    ")\n",
    "reg.fit(train_set,epochs=15)\n",
    "\n",
    "# X_train = X_train.reshape(-1, 128)\n",
    "# Y_train = Y_train.reshape(-1, 14,14)|"
   ]
  },
  {
   "cell_type": "code",
   "execution_count": null,
   "metadata": {
    "tags": []
   },
   "outputs": [],
   "source": [
    "predicted_y = reg.predict(test_set)\n",
    "print(reg.evaluate(test_set))\n",
    "print(get_metrics(Y_test_flat, predicted_y))\n",
    "predicted_y"
   ]
  },
  {
   "cell_type": "code",
   "execution_count": null,
   "metadata": {},
   "outputs": [],
   "source": [
    "regressor = ak.StructuredDataRegressor(max_trials=100, overwrite=True, metrics=['mse'],)\n",
    "regressor.fit(train_set, epochs=11)\n",
    "predicted_y = regressor.predict(test_set)\n",
    "# X_train = X_train.reshape(-1, 128)\n",
    "# Y_train = Y_train.reshape(-1, 14,14)\n",
    "print(regressor.evaluate(test_set))\n",
    "print(get_metrics(Y_test_flat, predicted_y))"
   ]
  },
  {
   "cell_type": "code",
   "execution_count": null,
   "metadata": {},
   "outputs": [],
   "source": [
    "model = reg.export_model()\n",
    "model.summary()"
   ]
  },
  {
   "cell_type": "code",
   "execution_count": null,
   "metadata": {},
   "outputs": [],
   "source": [
    "model_regressor = regressor.export_model()\n",
    "model_regressor.summary()"
   ]
  },
  {
   "cell_type": "code",
   "execution_count": null,
   "metadata": {},
   "outputs": [],
   "source": [
    "X_test = X_test.reshape(-1, 128)\n",
    "Y_ak_predicted =reg.predict(X_test)"
   ]
  },
  {
   "cell_type": "markdown",
   "metadata": {
    "tags": []
   },
   "source": [
    "# Autogoal"
   ]
  },
  {
   "cell_type": "code",
   "execution_count": null,
   "metadata": {},
   "outputs": [],
   "source": []
  },
  {
   "cell_type": "code",
   "execution_count": null,
   "metadata": {},
   "outputs": [],
   "source": []
  },
  {
   "cell_type": "code",
   "execution_count": null,
   "metadata": {},
   "outputs": [],
   "source": []
  },
  {
   "cell_type": "code",
   "execution_count": null,
   "metadata": {},
   "outputs": [],
   "source": []
  },
  {
   "cell_type": "code",
   "execution_count": null,
   "metadata": {},
   "outputs": [],
   "source": []
  }
 ],
 "metadata": {
  "colab": {
   "provenance": []
  },
  "kernelspec": {
   "display_name": "Python 3 (ipykernel)",
   "language": "python",
   "name": "python3"
  },
  "language_info": {
   "codemirror_mode": {
    "name": "ipython",
    "version": 3
   },
   "file_extension": ".py",
   "mimetype": "text/x-python",
   "name": "python",
   "nbconvert_exporter": "python",
   "pygments_lexer": "ipython3",
   "version": "3.11.2"
  }
 },
 "nbformat": 4,
 "nbformat_minor": 4
}
