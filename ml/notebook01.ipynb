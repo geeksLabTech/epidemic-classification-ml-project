{
 "cells": [
  {
   "cell_type": "code",
   "execution_count": 1,
   "metadata": {
    "colab": {
     "base_uri": "https://localhost:8080/"
    },
    "id": "qEpW7bBoXxjK",
    "outputId": "f9291846-3e60-4b81-a287-2488653ef2c8",
    "scrolled": true,
    "tags": []
   },
   "outputs": [],
   "source": [
    "import os\n",
    "os.environ['TF_CPP_MIN_LOG_LEVEL'] = '2' "
   ]
  },
  {
   "cell_type": "code",
   "execution_count": 2,
   "metadata": {
    "id": "ejN3IJoBX01S",
    "tags": []
   },
   "outputs": [],
   "source": [
    "import tensorflow as tf\n",
    "import json\n",
    "import numpy as np\n",
    "from sklearn.model_selection import train_test_split\n",
    "from sklearn.metrics import mean_squared_error as mse\n",
    "from sklearn.metrics import hinge_loss, mean_absolute_error,mean_squared_log_error,median_absolute_error,mean_absolute_percentage_error,mean_poisson_deviance"
   ]
  },
  {
   "cell_type": "code",
   "execution_count": 3,
   "metadata": {
    "id": "6xhdLfrpYEE2",
    "tags": []
   },
   "outputs": [
    {
     "name": "stdout",
     "output_type": "stream",
     "text": [
      "1411\n"
     ]
    }
   ],
   "source": [
    "file_path = '../dataset.json'\n",
    "\n",
    "# Open the file and load its contents\n",
    "with open(file_path, 'r') as json_file:\n",
    "    # Read the file content\n",
    "    file_content = json_file.read()\n",
    "\n",
    "    # Split the content by newline to get individual JSON objects\n",
    "    json_objects = file_content.split('\\n')\n",
    "\n",
    "data = []\n",
    "# Process each JSON object\n",
    "for json_object in json_objects:\n",
    "    if json_object.strip() == '':\n",
    "        continue  # Skip empty lines\n",
    "    \n",
    "    # Parse the JSON object\n",
    "    data.append(json.loads(json_object))\n",
    "\n",
    "print(len(data))\n",
    "\n",
    "X = []\n",
    "Y = []\n",
    "Y_flat = []\n",
    "\n",
    "for i in data:\n",
    "    X.append(np.array(i['vector']))    \n",
    "    Y.append(np.array(i['matrix']))\n",
    "    \n",
    "X_train, X_test, Y_train, Y_test = train_test_split(X,Y,test_size=0.4, random_state=44)\n",
    "X_train = np.array(X_train)\n",
    "X_test = np.array(X_test)\n",
    "Y_train = np.array(Y_train)\n",
    "Y_test = np.array(Y_test)\n",
    "Y_train_flat =[i.flatten() for i in Y_train]\n",
    "Y_test_flat =[i.flatten() for i in Y_test]"
   ]
  },
  {
   "cell_type": "code",
   "execution_count": 4,
   "metadata": {
    "tags": []
   },
   "outputs": [],
   "source": [
    "\n",
    "def get_metrics(y, p_y):\n",
    "    metrics = {}\n",
    "    try:\n",
    "        metrics['mse'] = mse(y,p_y)\n",
    "    except:\n",
    "        pass\n",
    "    try:\n",
    "        metrics['hinge_loss'] = hinge_losss(y,p_y)\n",
    "    except:\n",
    "        pass\n",
    "    try:\n",
    "        metrics['mean_absolute_error'] = mean_absolute_error(y,p_y)\n",
    "    except:\n",
    "        pass\n",
    "    try:\n",
    "        metrics['mean_squared_log_error'] = mean_squared_log_error(y,p_y)\n",
    "    except:\n",
    "        pass\n",
    "    try:\n",
    "        metrics['median_absolute_error'] = median_absolute_error(y,p_y)\n",
    "    except:\n",
    "        pass\n",
    "    try:\n",
    "        metrics['mean_absolute_percentage_error'] = mean_absolute_percentage_error(y,p_y)\n",
    "    except:\n",
    "        pass\n",
    "    try:\n",
    "        metrics['mean_poisson_deviance'] = mean_poisson_deviance(y,p_y)\n",
    "    except:\n",
    "        pass\n",
    "\n",
    "    return metrics\n",
    "    "
   ]
  },
  {
   "cell_type": "markdown",
   "metadata": {},
   "source": [
    "# Handmade NN"
   ]
  },
  {
   "cell_type": "code",
   "execution_count": 5,
   "metadata": {
    "id": "rliz9aQlYEXS",
    "tags": []
   },
   "outputs": [],
   "source": [
    "# Define the neural network architecture\n",
    "def build_crazy_model(input_dim, output_dim):\n",
    "    model = tf.keras.models.Sequential([\n",
    "        tf.keras.layers.Dense(128, activation='relu', input_shape=(input_dim,)),\n",
    "        tf.keras.layers.Dense(256, activation='relu'),\n",
    "        tf.keras.layers.Dense(512, activation='relu'),\n",
    "        tf.keras.layers.Dense(1024, activation='relu'),\n",
    "        tf.keras.layers.Dense(2048, activation='relu'),\n",
    "        tf.keras.layers.Dense(4096, activation='relu'),\n",
    "        tf.keras.layers.Dense(output_dim)\n",
    "    ])\n",
    "    return model\n",
    "def build_model(input_dim, output_dim):\n",
    "    model = tf.keras.models.Sequential([\n",
    "        tf.keras.layers.Dense(256, activation='relu', input_shape=(input_dim,)),\n",
    "        tf.keras.layers.Dense(512, activation='relu'),\n",
    "        tf.keras.layers.Dense(512, activation='relu'),\n",
    "        tf.keras.layers.Dense(512, activation='relu'),\n",
    "        tf.keras.layers.Dense(1024, activation='relu'),\n",
    "        tf.keras.layers.Dense(512, activation='relu'),\n",
    "        tf.keras.layers.Dense(512, activation='relu'),\n",
    "        tf.keras.layers.Dense(196)  # Output layer with shape (196,)\n",
    "    ])\n",
    "    return model\n",
    "\n",
    "def build_model_recursive(input_dim, output_dim):\n",
    "    model = tf.keras.models.Sequential([\n",
    "        tf.keras.layers.Dense(256, activation='relu', input_shape=(input_dim,)),\n",
    "        tf.keras.layers.Reshape((1, 256)),  # Reshape input to match LSTM requirements\n",
    "        # tf.keras.layers.LSTM(512, return_sequences=True),\n",
    "        tf.keras.layers.TimeDistributed(tf.keras.layers.Dense(256, activation='relu')),\n",
    "        tf.keras.layers.LSTM(512),\n",
    "        tf.keras.layers.Dense(output_dim)\n",
    "    ])\n",
    "    return model\n",
    "\n",
    "# def build_model_convolutional(input_dim):\n",
    "#     model = tf.keras.models.Sequential([\n",
    "#         tf.keras.layers.Dense(256, activation='relu', input_shape=(input_dim,)),\n",
    "#         tf.keras.layers.Dense(7*7*128, activation='relu'),\n",
    "#         tf.keras.layers.Reshape((7, 7, 128)),\n",
    "#         tf.keras.layers.Conv2DTranspose(32, kernel_size=(3, 3), strides=(2, 2), padding='same', activation='relu'),\n",
    "#         tf.keras.layers.Conv2DTranspose(2, kernel_size=(3, 3), strides=(2, 2), padding='same', activation='relu'),\n",
    "#         tf.keras.layers.Conv2D(1, kernel_size=(3, 3), strides=(2, 2), padding='same', activation='relu'),\n",
    "#         tf.keras.layers.Reshape((14, 14, 1))  # Update the output shape to (14, 14, 1)\n",
    "#     ])\n",
    "#     return model"
   ]
  },
  {
   "cell_type": "code",
   "execution_count": 6,
   "metadata": {
    "id": "GxPsGwMvYLOD",
    "tags": []
   },
   "outputs": [],
   "source": [
    "# Define the input and output dimensions\n",
    "input_dim = 128  # Dimensionality of the input vector\n",
    "output_dim = 196  # Dimensionality of the output vector"
   ]
  },
  {
   "cell_type": "code",
   "execution_count": 7,
   "metadata": {
    "id": "g9uXSFPQYMzE",
    "tags": []
   },
   "outputs": [],
   "source": [
    "# Build the model\n",
    "model = build_model_recursive(input_dim, output_dim)\n",
    "model_ann = build_model(input_dim, output_dim)\n",
    "# model_conv = build_model_convolutional(input_dim)\n",
    "\n",
    "# Compile the model\n",
    "model.compile(optimizer='adam', loss='mae')\n",
    "model_ann.compile(optimizer='adam', loss='mae')\n",
    "# model_conv.compile(optimizer='adam', loss='mse')"
   ]
  },
  {
   "cell_type": "code",
   "execution_count": 8,
   "metadata": {
    "colab": {
     "base_uri": "https://localhost:8080/"
    },
    "id": "FyzgGBgHYOp3",
    "outputId": "458e8b0e-378c-4bff-dbe8-741ef2881b4b",
    "scrolled": true,
    "tags": []
   },
   "outputs": [
    {
     "name": "stdout",
     "output_type": "stream",
     "text": [
      "Epoch 1/30\n",
      "27/27 [==============================] - 2s 14ms/step - loss: 448.9602\n",
      "Epoch 2/30\n",
      "27/27 [==============================] - 0s 14ms/step - loss: 2.5773\n",
      "Epoch 3/30\n",
      "27/27 [==============================] - 0s 15ms/step - loss: 0.3252\n",
      "Epoch 4/30\n",
      "27/27 [==============================] - 0s 14ms/step - loss: 1.3625\n",
      "Epoch 5/30\n",
      "27/27 [==============================] - 0s 14ms/step - loss: 3.8568\n",
      "Epoch 6/30\n",
      "27/27 [==============================] - 0s 14ms/step - loss: 1.4235\n",
      "Epoch 7/30\n",
      "27/27 [==============================] - 0s 14ms/step - loss: 0.1849\n",
      "Epoch 8/30\n",
      "27/27 [==============================] - 0s 14ms/step - loss: 0.1837\n",
      "Epoch 9/30\n",
      "27/27 [==============================] - 0s 15ms/step - loss: 0.1836\n",
      "Epoch 10/30\n",
      "27/27 [==============================] - 0s 14ms/step - loss: 0.1836\n",
      "Epoch 11/30\n",
      "27/27 [==============================] - 0s 14ms/step - loss: 0.1836\n",
      "Epoch 12/30\n",
      "27/27 [==============================] - 0s 14ms/step - loss: 0.1836\n",
      "Epoch 13/30\n",
      "27/27 [==============================] - 0s 14ms/step - loss: 0.1836\n",
      "Epoch 14/30\n",
      "27/27 [==============================] - 0s 15ms/step - loss: 0.1836\n",
      "Epoch 15/30\n",
      "27/27 [==============================] - 0s 14ms/step - loss: 0.1836\n",
      "Epoch 16/30\n",
      "27/27 [==============================] - 0s 14ms/step - loss: 0.1836\n",
      "Epoch 17/30\n",
      "27/27 [==============================] - 0s 14ms/step - loss: 0.1836\n",
      "Epoch 18/30\n",
      "27/27 [==============================] - 0s 15ms/step - loss: 0.1836\n",
      "Epoch 19/30\n",
      "27/27 [==============================] - 0s 15ms/step - loss: 0.1836\n",
      "Epoch 20/30\n",
      "27/27 [==============================] - 0s 15ms/step - loss: 0.1836\n",
      "Epoch 21/30\n",
      "27/27 [==============================] - 0s 15ms/step - loss: 0.1836\n",
      "Epoch 22/30\n",
      "27/27 [==============================] - 0s 14ms/step - loss: 0.1836\n",
      "Epoch 23/30\n",
      "27/27 [==============================] - 0s 15ms/step - loss: 0.1836\n",
      "Epoch 24/30\n",
      "27/27 [==============================] - 0s 14ms/step - loss: 0.1836\n",
      "Epoch 25/30\n",
      "27/27 [==============================] - 0s 14ms/step - loss: 0.1836\n",
      "Epoch 26/30\n",
      "27/27 [==============================] - 0s 14ms/step - loss: 0.1836\n",
      "Epoch 27/30\n",
      "27/27 [==============================] - 0s 15ms/step - loss: 0.1836\n",
      "Epoch 28/30\n",
      "27/27 [==============================] - 0s 15ms/step - loss: 0.1836\n",
      "Epoch 29/30\n",
      "27/27 [==============================] - 0s 15ms/step - loss: 0.1836\n",
      "Epoch 30/30\n",
      "27/27 [==============================] - 0s 15ms/step - loss: 0.1836\n"
     ]
    },
    {
     "data": {
      "text/plain": [
       "<keras.callbacks.History at 0x7fa238d66090>"
      ]
     },
     "execution_count": 8,
     "metadata": {},
     "output_type": "execute_result"
    }
   ],
   "source": [
    "model_ann.fit(x=np.array(X_train),y=np.array(Y_train_flat), epochs=30)"
   ]
  },
  {
   "cell_type": "code",
   "execution_count": null,
   "metadata": {
    "scrolled": true
   },
   "outputs": [],
   "source": []
  },
  {
   "cell_type": "code",
   "execution_count": 9,
   "metadata": {
    "colab": {
     "base_uri": "https://localhost:8080/"
    },
    "id": "xMOPGW57eW2x",
    "outputId": "c0e955d5-1de1-423d-d28d-2a9a57a1a3ab",
    "tags": []
   },
   "outputs": [
    {
     "name": "stdout",
     "output_type": "stream",
     "text": [
      "Epoch 1/30\n",
      "27/27 [==============================] - 3s 14ms/step - loss: 0.3446\n",
      "Epoch 2/30\n",
      "27/27 [==============================] - 0s 14ms/step - loss: 0.2620\n",
      "Epoch 3/30\n",
      "27/27 [==============================] - 0s 14ms/step - loss: 0.2427\n",
      "Epoch 4/30\n",
      "27/27 [==============================] - 0s 14ms/step - loss: 0.2105\n",
      "Epoch 5/30\n",
      "27/27 [==============================] - 0s 14ms/step - loss: 0.2029\n",
      "Epoch 6/30\n",
      "27/27 [==============================] - 0s 14ms/step - loss: 0.2078\n",
      "Epoch 7/30\n",
      "27/27 [==============================] - 0s 14ms/step - loss: 0.1985\n",
      "Epoch 8/30\n",
      "27/27 [==============================] - 0s 14ms/step - loss: 0.2219\n",
      "Epoch 9/30\n",
      "27/27 [==============================] - 0s 14ms/step - loss: 0.2212\n",
      "Epoch 10/30\n",
      "27/27 [==============================] - 0s 14ms/step - loss: 0.2231\n",
      "Epoch 11/30\n",
      "27/27 [==============================] - 0s 14ms/step - loss: 0.2086\n",
      "Epoch 12/30\n",
      "27/27 [==============================] - 0s 14ms/step - loss: 0.2086\n",
      "Epoch 13/30\n",
      "27/27 [==============================] - 0s 14ms/step - loss: 0.1963\n",
      "Epoch 14/30\n",
      "27/27 [==============================] - 0s 14ms/step - loss: 0.1962\n",
      "Epoch 15/30\n",
      "27/27 [==============================] - 0s 14ms/step - loss: 0.1955\n",
      "Epoch 16/30\n",
      "27/27 [==============================] - 0s 14ms/step - loss: 0.1888\n",
      "Epoch 17/30\n",
      "27/27 [==============================] - 0s 14ms/step - loss: 0.1880\n",
      "Epoch 18/30\n",
      "27/27 [==============================] - 0s 14ms/step - loss: 0.1884\n",
      "Epoch 19/30\n",
      "27/27 [==============================] - 0s 14ms/step - loss: 0.1884\n",
      "Epoch 20/30\n",
      "27/27 [==============================] - 0s 15ms/step - loss: 0.1885\n",
      "Epoch 21/30\n",
      "27/27 [==============================] - 0s 14ms/step - loss: 0.1889\n",
      "Epoch 22/30\n",
      "27/27 [==============================] - 0s 14ms/step - loss: 0.1883\n",
      "Epoch 23/30\n",
      "27/27 [==============================] - 0s 14ms/step - loss: 0.1886\n",
      "Epoch 24/30\n",
      "27/27 [==============================] - 0s 14ms/step - loss: 0.1887\n",
      "Epoch 25/30\n",
      "27/27 [==============================] - 0s 15ms/step - loss: 0.1882\n",
      "Epoch 26/30\n",
      "27/27 [==============================] - 0s 15ms/step - loss: 0.1884\n",
      "Epoch 27/30\n",
      "27/27 [==============================] - 0s 15ms/step - loss: 0.1883\n",
      "Epoch 28/30\n",
      "27/27 [==============================] - 0s 14ms/step - loss: 0.1883\n",
      "Epoch 29/30\n",
      "27/27 [==============================] - 0s 15ms/step - loss: 0.1880\n",
      "Epoch 30/30\n",
      "27/27 [==============================] - 0s 14ms/step - loss: 0.1882\n"
     ]
    },
    {
     "data": {
      "text/plain": [
       "<keras.callbacks.History at 0x7fa22c7809d0>"
      ]
     },
     "execution_count": 9,
     "metadata": {},
     "output_type": "execute_result"
    }
   ],
   "source": [
    "model.fit(x=np.array(X_train),y=np.array(Y_train_flat), epochs=30)"
   ]
  },
  {
   "cell_type": "code",
   "execution_count": 10,
   "metadata": {
    "colab": {
     "base_uri": "https://localhost:8080/"
    },
    "id": "14SAvXOHYk4y",
    "outputId": "a65e3d8a-9fbb-45d3-c448-2ffbc1d79605",
    "tags": []
   },
   "outputs": [
    {
     "name": "stdout",
     "output_type": "stream",
     "text": [
      "18/18 [==============================] - 0s 3ms/step\n",
      "18/18 [==============================] - 0s 3ms/step\n",
      "{'mse': 74.69386200220019, 'mean_absolute_error': 0.07032110592560496, 'median_absolute_error': 0.011269081010038052, 'mean_absolute_percentage_error': 4.349572050934206}\n",
      "{'mse': 74.69409605372209, 'mean_absolute_error': 0.06431526751237207, 'mean_squared_log_error': 0.009424563879682098, 'median_absolute_error': 0.003040958792254606, 'mean_absolute_percentage_error': 5.271553509739742}\n"
     ]
    }
   ],
   "source": [
    "Y_predicted = model.predict(np.array(X_test))\n",
    "Y_ann_predicted = model_ann.predict(np.array(X_test))\n",
    "# Y_conv_predicted = model_conv.predict(np.array(X_test))\n",
    "print(get_metrics(Y_predicted, Y_test_flat))\n",
    "print(get_metrics(Y_ann_predicted, Y_test_flat))"
   ]
  },
  {
   "cell_type": "code",
   "execution_count": 11,
   "metadata": {
    "colab": {
     "base_uri": "https://localhost:8080/"
    },
    "id": "Dn__H5iFZ0gY",
    "outputId": "04738f0c-14b0-4c03-e2ed-2e48633b08ae",
    "tags": []
   },
   "outputs": [],
   "source": [
    "Y_predicted = [np.reshape(i, (14,14)) for i in Y_predicted]\n",
    "# Y_predicted"
   ]
  },
  {
   "cell_type": "code",
   "execution_count": 12,
   "metadata": {
    "colab": {
     "base_uri": "https://localhost:8080/"
    },
    "id": "YMhuJWX0ckq3",
    "outputId": "4ce0320e-f93b-481c-811b-7bf4c95fcc7f",
    "tags": []
   },
   "outputs": [],
   "source": [
    "Y_ann_predicted = [np.reshape(i, (14,14)) for i in Y_ann_predicted]\n",
    "# Y_ann_predicted"
   ]
  },
  {
   "cell_type": "code",
   "execution_count": null,
   "metadata": {},
   "outputs": [],
   "source": []
  },
  {
   "cell_type": "markdown",
   "metadata": {},
   "source": [
    "# AutoKeras"
   ]
  },
  {
   "cell_type": "code",
   "execution_count": 13,
   "metadata": {
    "tags": []
   },
   "outputs": [],
   "source": [
    "import autokeras as ak\n",
    "from tensorflow.keras.metrics import MeanAbsoluteError\n",
    "import numpy as np"
   ]
  },
  {
   "cell_type": "code",
   "execution_count": null,
   "metadata": {},
   "outputs": [],
   "source": [
    "\n"
   ]
  },
  {
   "cell_type": "code",
   "execution_count": 14,
   "metadata": {
    "tags": []
   },
   "outputs": [],
   "source": [
    "# X_train = X_train.reshape(-1, 128)\n",
    "# Y_train = Y_train.reshape(-1, 14,14)\n",
    "train_set = tf.data.Dataset.from_tensor_slices((X_train, Y_train_flat))\n",
    "test_set = tf.data.Dataset.from_tensor_slices((X_test, Y_test_flat))\n"
   ]
  },
  {
   "cell_type": "code",
   "execution_count": 15,
   "metadata": {
    "scrolled": true,
    "tags": []
   },
   "outputs": [
    {
     "name": "stdout",
     "output_type": "stream",
     "text": [
      "Trial 100 Complete [00h 00m 02s]\n",
      "val_loss: 11266.4248046875\n",
      "\n",
      "Best val_loss So Far: 0.07737971842288971\n",
      "Total elapsed time: 00h 03m 53s\n",
      "INFO:tensorflow:Oracle triggered exit\n",
      "Epoch 1/11\n",
      "27/27 [==============================] - 1s 2ms/step - loss: 4505.7676 - mae: 4505.7676\n",
      "Epoch 2/11\n",
      "27/27 [==============================] - 0s 2ms/step - loss: 1.9914 - mae: 1.9914\n",
      "Epoch 3/11\n",
      "27/27 [==============================] - 0s 2ms/step - loss: 3.8131 - mae: 3.8131\n",
      "Epoch 4/11\n",
      "27/27 [==============================] - 0s 2ms/step - loss: 0.6493 - mae: 0.6493\n",
      "Epoch 5/11\n",
      "27/27 [==============================] - 0s 2ms/step - loss: 0.1836 - mae: 0.1836\n",
      "Epoch 6/11\n",
      "27/27 [==============================] - 0s 2ms/step - loss: 0.2600 - mae: 0.2600\n",
      "Epoch 7/11\n",
      "27/27 [==============================] - 0s 2ms/step - loss: 3.4854 - mae: 3.4854\n",
      "Epoch 8/11\n",
      "27/27 [==============================] - 0s 2ms/step - loss: 0.1945 - mae: 0.1945\n",
      "Epoch 9/11\n",
      "27/27 [==============================] - 0s 2ms/step - loss: 0.6250 - mae: 0.6250\n",
      "Epoch 10/11\n",
      "27/27 [==============================] - 0s 2ms/step - loss: 0.6122 - mae: 0.6122\n",
      "Epoch 11/11\n",
      "27/27 [==============================] - 0s 2ms/step - loss: 0.1836 - mae: 0.1836\n"
     ]
    },
    {
     "name": "stderr",
     "output_type": "stream",
     "text": [
      "WARNING:absl:Found untraced functions such as _update_step_xla while saving (showing 1 of 1). These functions will not be directly callable after loading.\n"
     ]
    },
    {
     "name": "stdout",
     "output_type": "stream",
     "text": [
      "INFO:tensorflow:Assets written to: ./auto_model/best_model/assets\n"
     ]
    },
    {
     "name": "stderr",
     "output_type": "stream",
     "text": [
      "INFO:tensorflow:Assets written to: ./auto_model/best_model/assets\n"
     ]
    },
    {
     "data": {
      "text/plain": [
       "<keras.callbacks.History at 0x7fa18026fcd0>"
      ]
     },
     "execution_count": 15,
     "metadata": {},
     "output_type": "execute_result"
    }
   ],
   "source": [
    "\n",
    "input_node = ak.StructuredDataInput()\n",
    "output_node = ak.DenseBlock()(input_node)\n",
    "output_node = ak.RegressionHead()(output_node)\n",
    "reg = ak.AutoModel(inputs=input_node, outputs=output_node,overwrite=True, max_trials=100,metrics=['mae'],loss='mean_absolute_error',\n",
    ")\n",
    "reg.fit(train_set,epochs=11,validation_split=0.60)\n",
    "\n",
    "# X_train = X_train.reshape(-1, 128)\n",
    "# Y_train = Y_train.reshape(-1, 14,14)|"
   ]
  },
  {
   "cell_type": "code",
   "execution_count": 16,
   "metadata": {
    "tags": []
   },
   "outputs": [
    {
     "name": "stdout",
     "output_type": "stream",
     "text": [
      "18/18 [==============================] - 0s 1ms/step\n",
      "18/18 [==============================] - 0s 1ms/step\n",
      "18/18 [==============================] - 0s 1ms/step - loss: 0.0643 - mae: 0.0643\n",
      "[0.06433181464672089, 0.06433181464672089]\n",
      "{'mse': 74.69402003850641, 'mean_absolute_error': 0.06433182287922903, 'mean_squared_log_error': 0.009416884413971045, 'median_absolute_error': 0.0031583952514693337, 'mean_absolute_percentage_error': 1086135949.754243}\n"
     ]
    },
    {
     "data": {
      "text/plain": [
       "array([[0.00097106, 0.00079864, 0.00115747, ..., 0.0141268 , 0.01914554,\n",
       "        0.03341536],\n",
       "       [0.00097106, 0.00079864, 0.00115747, ..., 0.0141268 , 0.01914554,\n",
       "        0.03341536],\n",
       "       [0.00097106, 0.00079864, 0.00115747, ..., 0.0141268 , 0.01914554,\n",
       "        0.03341536],\n",
       "       ...,\n",
       "       [0.00097106, 0.00079864, 0.00115747, ..., 0.0141268 , 0.01914554,\n",
       "        0.03341536],\n",
       "       [0.00097106, 0.00079864, 0.00115747, ..., 0.0141268 , 0.01914554,\n",
       "        0.03341536],\n",
       "       [0.00097106, 0.00079864, 0.00115747, ..., 0.0141268 , 0.01914554,\n",
       "        0.03341536]], dtype=float32)"
      ]
     },
     "execution_count": 16,
     "metadata": {},
     "output_type": "execute_result"
    }
   ],
   "source": [
    "predicted_y = reg.predict(test_set)\n",
    "print(reg.evaluate(test_set))\n",
    "print(get_metrics(Y_test_flat, predicted_y))\n",
    "predicted_y"
   ]
  },
  {
   "cell_type": "code",
   "execution_count": 17,
   "metadata": {},
   "outputs": [
    {
     "name": "stdout",
     "output_type": "stream",
     "text": [
      "Trial 66 Complete [00h 00m 09s]\n",
      "val_loss: 214.7057647705078\n",
      "\n",
      "Best val_loss So Far: 212.2715606689453\n",
      "Total elapsed time: 00h 09m 32s\n",
      "INFO:tensorflow:Oracle triggered exit\n"
     ]
    },
    {
     "name": "stderr",
     "output_type": "stream",
     "text": [
      "INFO:tensorflow:Oracle triggered exit\n"
     ]
    },
    {
     "name": "stdout",
     "output_type": "stream",
     "text": [
      "Epoch 1/11\n",
      "27/27 [==============================] - 2s 3ms/step - loss: 1519.8741 - mse: 1519.8741\n",
      "Epoch 2/11\n",
      "27/27 [==============================] - 0s 3ms/step - loss: 1519.2330 - mse: 1519.2330\n",
      "Epoch 3/11\n",
      "27/27 [==============================] - 0s 3ms/step - loss: 1518.0933 - mse: 1518.0933\n",
      "Epoch 4/11\n",
      "27/27 [==============================] - 0s 3ms/step - loss: 1516.0715 - mse: 1516.0715\n",
      "Epoch 5/11\n",
      "27/27 [==============================] - 0s 3ms/step - loss: 1512.8712 - mse: 1512.8712\n",
      "Epoch 6/11\n",
      "27/27 [==============================] - 0s 3ms/step - loss: 1508.2810 - mse: 1508.2810\n",
      "Epoch 7/11\n",
      "27/27 [==============================] - 0s 3ms/step - loss: 1502.3467 - mse: 1502.3467\n",
      "Epoch 8/11\n",
      "27/27 [==============================] - 0s 3ms/step - loss: 1494.3534 - mse: 1494.3534\n",
      "Epoch 9/11\n",
      "27/27 [==============================] - 0s 3ms/step - loss: 1484.8025 - mse: 1484.8025\n",
      "Epoch 10/11\n",
      "27/27 [==============================] - 0s 3ms/step - loss: 1473.3467 - mse: 1473.3467\n",
      "Epoch 11/11\n",
      "27/27 [==============================] - 0s 3ms/step - loss: 1460.0033 - mse: 1460.0033\n"
     ]
    },
    {
     "name": "stderr",
     "output_type": "stream",
     "text": [
      "WARNING:absl:Found untraced functions such as _update_step_xla while saving (showing 1 of 1). These functions will not be directly callable after loading.\n"
     ]
    },
    {
     "name": "stdout",
     "output_type": "stream",
     "text": [
      "INFO:tensorflow:Assets written to: ./structured_data_regressor/best_model/assets\n"
     ]
    },
    {
     "name": "stderr",
     "output_type": "stream",
     "text": [
      "INFO:tensorflow:Assets written to: ./structured_data_regressor/best_model/assets\n"
     ]
    },
    {
     "name": "stdout",
     "output_type": "stream",
     "text": [
      "18/18 [==============================] - 1s 2ms/step\n",
      "18/18 [==============================] - 0s 2ms/step\n",
      "18/18 [==============================] - 1s 2ms/step - loss: 82.5904 - mse: 82.5904\n",
      "[82.59040832519531, 82.59040832519531]\n",
      "{'mse': 82.5904002112041, 'mean_absolute_error': 0.34257961825636507, 'median_absolute_error': 0.2517173029577706, 'mean_absolute_percentage_error': 58315875040.55665}\n"
     ]
    }
   ],
   "source": [
    "regressor = ak.StructuredDataRegressor(max_trials=100, overwrite=True, metrics=['mse'],)\n",
    "regressor.fit(train_set, epochs=11)\n",
    "predicted_y = regressor.predict(test_set)\n",
    "# X_train = X_train.reshape(-1, 128)\n",
    "# Y_train = Y_train.reshape(-1, 14,14)\n",
    "print(regressor.evaluate(test_set))\n",
    "print(get_metrics(Y_test_flat, predicted_y))"
   ]
  },
  {
   "cell_type": "code",
   "execution_count": 18,
   "metadata": {},
   "outputs": [
    {
     "name": "stdout",
     "output_type": "stream",
     "text": [
      "Model: \"model\"\n",
      "_________________________________________________________________\n",
      " Layer (type)                Output Shape              Param #   \n",
      "=================================================================\n",
      " input_1 (InputLayer)        [(None, 128)]             0         \n",
      "                                                                 \n",
      " dense (Dense)               (None, 256)               33024     \n",
      "                                                                 \n",
      " re_lu (ReLU)                (None, 256)               0         \n",
      "                                                                 \n",
      " dropout (Dropout)           (None, 256)               0         \n",
      "                                                                 \n",
      " dense_1 (Dense)             (None, 16)                4112      \n",
      "                                                                 \n",
      " re_lu_1 (ReLU)              (None, 16)                0         \n",
      "                                                                 \n",
      " dropout_1 (Dropout)         (None, 16)                0         \n",
      "                                                                 \n",
      " dropout_2 (Dropout)         (None, 16)                0         \n",
      "                                                                 \n",
      " regression_head_1 (Dense)   (None, 196)               3332      \n",
      "                                                                 \n",
      "=================================================================\n",
      "Total params: 40,468\n",
      "Trainable params: 40,468\n",
      "Non-trainable params: 0\n",
      "_________________________________________________________________\n"
     ]
    }
   ],
   "source": [
    "model = reg.export_model()\n",
    "model.summary()"
   ]
  },
  {
   "cell_type": "code",
   "execution_count": 19,
   "metadata": {},
   "outputs": [
    {
     "name": "stdout",
     "output_type": "stream",
     "text": [
      "Model: \"model\"\n",
      "_________________________________________________________________\n",
      " Layer (type)                Output Shape              Param #   \n",
      "=================================================================\n",
      " input_1 (InputLayer)        [(None, 128)]             0         \n",
      "                                                                 \n",
      " multi_category_encoding (Mu  (None, 128)              0         \n",
      " ltiCategoryEncoding)                                            \n",
      "                                                                 \n",
      " normalization (Normalizatio  (None, 128)              257       \n",
      " n)                                                              \n",
      "                                                                 \n",
      " dense (Dense)               (None, 32)                4128      \n",
      "                                                                 \n",
      " re_lu (ReLU)                (None, 32)                0         \n",
      "                                                                 \n",
      " dense_1 (Dense)             (None, 512)               16896     \n",
      "                                                                 \n",
      " re_lu_1 (ReLU)              (None, 512)               0         \n",
      "                                                                 \n",
      " regression_head_1 (Dense)   (None, 196)               100548    \n",
      "                                                                 \n",
      "=================================================================\n",
      "Total params: 121,829\n",
      "Trainable params: 121,572\n",
      "Non-trainable params: 257\n",
      "_________________________________________________________________\n"
     ]
    }
   ],
   "source": [
    "model_regressor = regressor.export_model()\n",
    "model_regressor.summary()"
   ]
  },
  {
   "cell_type": "code",
   "execution_count": 20,
   "metadata": {},
   "outputs": [
    {
     "name": "stdout",
     "output_type": "stream",
     "text": [
      "18/18 [==============================] - 0s 957us/step\n",
      "18/18 [==============================] - 0s 882us/step\n"
     ]
    }
   ],
   "source": [
    "X_test = X_test.reshape(-1, 128)\n",
    "Y_ak_predicted =reg.predict(X_test)"
   ]
  },
  {
   "cell_type": "code",
   "execution_count": null,
   "metadata": {},
   "outputs": [],
   "source": []
  },
  {
   "cell_type": "code",
   "execution_count": 30,
   "metadata": {},
   "outputs": [
    {
     "name": "stdout",
     "output_type": "stream",
     "text": [
      "1/1 [==============================] - 0s 13ms/step\n"
     ]
    },
    {
     "data": {
      "text/plain": [
       "array([[0.00097106, 0.00079864, 0.00115747, 0.00083965, 0.00090141,\n",
       "        0.00121474, 0.00133817, 0.00120074, 0.0010057 , 0.00162539,\n",
       "        0.00046757, 0.0008556 , 0.00170702, 0.0042268 , 0.0008161 ,\n",
       "        0.00116268, 0.00099611, 0.00061055, 0.00074398, 0.00116903,\n",
       "        0.00144293, 0.00120221, 0.000941  , 0.00183311, 0.00147641,\n",
       "        0.00188156, 0.00201651, 0.00484275, 0.00116264, 0.00094404,\n",
       "        0.00090496, 0.00076296, 0.0006266 , 0.00120573, 0.00105691,\n",
       "        0.00118926, 0.0009052 , 0.0013784 , 0.00160251, 0.0011844 ,\n",
       "        0.00233397, 0.00480825, 0.0007425 , 0.0005532 , 0.00077069,\n",
       "        0.00054668, 0.00080642, 0.00069549, 0.00111785, 0.00087816,\n",
       "        0.0009063 , 0.00152951, 0.001431  , 0.0015794 , 0.00343507,\n",
       "        0.00584732, 0.00091676, 0.00063775, 0.00065861, 0.00093878,\n",
       "        0.00196326, 0.00191831, 0.0021827 , 0.00225008, 0.00204468,\n",
       "        0.00373286, 0.0037421 , 0.00355634, 0.00565538, 0.01039945,\n",
       "        0.00107509, 0.00127017, 0.00105268, 0.00105273, 0.00163998,\n",
       "        0.00291047, 0.00229795, 0.00226497, 0.00190334, 0.00375273,\n",
       "        0.00322106, 0.00330131, 0.00542087, 0.01059939, 0.00136261,\n",
       "        0.00181523, 0.00137854, 0.00111774, 0.00227235, 0.0022037 ,\n",
       "        0.00289539, 0.00274141, 0.002428  , 0.00393321, 0.0035423 ,\n",
       "        0.00382315, 0.00634282, 0.01000848, 0.00105839, 0.00126228,\n",
       "        0.00097897, 0.00117833, 0.00223217, 0.00252813, 0.00280112,\n",
       "        0.00229119, 0.0029751 , 0.00321925, 0.00336061, 0.00372963,\n",
       "        0.00683168, 0.0099738 , 0.00108992, 0.00088844, 0.00096637,\n",
       "        0.00093961, 0.00311818, 0.00188735, 0.00259853, 0.00293918,\n",
       "        0.0054878 , 0.00455239, 0.00448044, 0.00454522, 0.00675571,\n",
       "        0.01055109, 0.00182991, 0.00190931, 0.00161719, 0.00153907,\n",
       "        0.00357799, 0.00374181, 0.00360814, 0.00399064, 0.00444995,\n",
       "        0.004708  , 0.00541432, 0.00452317, 0.00755535, 0.01202364,\n",
       "        0.00076001, 0.00171835, 0.00120686, 0.00168872, 0.00372835,\n",
       "        0.00309575, 0.00321326, 0.00406839, 0.00449719, 0.00583024,\n",
       "        0.0056976 , 0.0052924 , 0.007339  , 0.01293359, 0.00110146,\n",
       "        0.00178711, 0.00110736, 0.00150034, 0.00299133, 0.00351022,\n",
       "        0.00381143, 0.00390834, 0.00494036, 0.00458745, 0.0054676 ,\n",
       "        0.00572735, 0.00843717, 0.01382823, 0.00180379, 0.00207473,\n",
       "        0.00144039, 0.00269982, 0.00551673, 0.00527829, 0.00559206,\n",
       "        0.00688622, 0.00687812, 0.00751674, 0.00737334, 0.00834372,\n",
       "        0.01173041, 0.01933275, 0.00360221, 0.00560287, 0.00512806,\n",
       "        0.00607   , 0.0100654 , 0.01051125, 0.01000822, 0.00993834,\n",
       "        0.01080886, 0.01204044, 0.01297337, 0.0141268 , 0.01914554,\n",
       "        0.03341536]], dtype=float32)"
      ]
     },
     "execution_count": 30,
     "metadata": {},
     "output_type": "execute_result"
    }
   ],
   "source": [
    "model.save(\"mae.h5\")\n",
    "X_test\n",
    "model.predict(X_test[0].reshape(1,128))"
   ]
  },
  {
   "cell_type": "code",
   "execution_count": 21,
   "metadata": {},
   "outputs": [
    {
     "name": "stdout",
     "output_type": "stream",
     "text": [
      "18/18 [==============================] - 0s 1ms/step\n",
      "18/18 [==============================] - 0s 896us/step\n",
      "18/18 [==============================] - 0s 1ms/step - loss: 0.0643 - mae: 0.0643\n",
      "[0.06433181464672089, 0.06433181464672089]\n",
      "{'mse': 74.69402003850641, 'mean_absolute_error': 0.06433182287922903, 'mean_squared_log_error': 0.009416884413971045, 'median_absolute_error': 0.0031583952514693337, 'mean_absolute_percentage_error': 1086135949.754243}\n"
     ]
    },
    {
     "data": {
      "text/plain": [
       "array([[0.00097106, 0.00079864, 0.00115747, ..., 0.0141268 , 0.01914554,\n",
       "        0.03341536],\n",
       "       [0.00097106, 0.00079864, 0.00115747, ..., 0.0141268 , 0.01914554,\n",
       "        0.03341536],\n",
       "       [0.00097106, 0.00079864, 0.00115747, ..., 0.0141268 , 0.01914554,\n",
       "        0.03341536],\n",
       "       ...,\n",
       "       [0.00097106, 0.00079864, 0.00115747, ..., 0.0141268 , 0.01914554,\n",
       "        0.03341536],\n",
       "       [0.00097106, 0.00079864, 0.00115747, ..., 0.0141268 , 0.01914554,\n",
       "        0.03341536],\n",
       "       [0.00097106, 0.00079864, 0.00115747, ..., 0.0141268 , 0.01914554,\n",
       "        0.03341536]], dtype=float32)"
      ]
     },
     "execution_count": 21,
     "metadata": {},
     "output_type": "execute_result"
    }
   ],
   "source": [
    "predicted_y = reg.predict(test_set)\n",
    "print(reg.evaluate(test_set))\n",
    "print(get_metrics(Y_test_flat, predicted_y))\n",
    "predicted_y"
   ]
  },
  {
   "cell_type": "code",
   "execution_count": null,
   "metadata": {},
   "outputs": [],
   "source": []
  },
  {
   "cell_type": "code",
   "execution_count": null,
   "metadata": {},
   "outputs": [],
   "source": []
  }
 ],
 "metadata": {
  "colab": {
   "provenance": []
  },
  "kernelspec": {
   "display_name": "Python 3 (ipykernel)",
   "language": "python",
   "name": "python3"
  },
  "language_info": {
   "codemirror_mode": {
    "name": "ipython",
    "version": 3
   },
   "file_extension": ".py",
   "mimetype": "text/x-python",
   "name": "python",
   "nbconvert_exporter": "python",
   "pygments_lexer": "ipython3",
   "version": "3.11.2"
  }
 },
 "nbformat": 4,
 "nbformat_minor": 4
}
